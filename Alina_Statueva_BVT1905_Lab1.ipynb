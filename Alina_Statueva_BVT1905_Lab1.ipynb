{
 "cells": [
  {
   "cell_type": "code",
   "execution_count": 1,
   "metadata": {},
   "outputs": [],
   "source": [
    "#Лабораторная работа №1\n",
    "#Выполнила студентка группы БВТ1905 Статуева Алина Сергеевна\n",
    "#Задание 1"
   ]
  },
  {
   "cell_type": "code",
   "execution_count": 2,
   "metadata": {},
   "outputs": [
    {
     "name": "stdout",
     "output_type": "stream",
     "text": [
      "Hello World!\n"
     ]
    }
   ],
   "source": [
    " print(\"Hello World!\");"
   ]
  },
  {
   "cell_type": "code",
   "execution_count": 3,
   "metadata": {},
   "outputs": [],
   "source": [
    "#Задание 2"
   ]
  },
  {
   "cell_type": "code",
   "execution_count": 4,
   "metadata": {},
   "outputs": [],
   "source": [
    "import random\n",
    "def generator(m = 50, n = 50, min_limit = -250, max_limit = 1014):#метод генерации матрицы\n",
    "    matrix = []\n",
    "    for i in range(m):\n",
    "        matrix.append([])\n",
    "        for j in range(n):\n",
    "            matrix[i].append(random.randint(min_limit, max_limit + 1))\n",
    "    return matrix"
   ]
  },
  {
   "cell_type": "code",
   "execution_count": 5,
   "metadata": {},
   "outputs": [],
   "source": [
    "#Задание 3"
   ]
  },
  {
   "cell_type": "code",
   "execution_count": 6,
   "metadata": {},
   "outputs": [],
   "source": [
    "import time\n",
    "gen_matrix = generator()"
   ]
  },
  {
   "cell_type": "code",
   "execution_count": 7,
   "metadata": {},
   "outputs": [
    {
     "name": "stdout",
     "output_type": "stream",
     "text": [
      "Время сортировки выбором:  0.1468658447265625\n"
     ]
    }
   ],
   "source": [
    "#Выбор\n",
    "start = time.time()\n",
    "def selection_sort(matrix):\n",
    "    # Значение i соответствует кол-ву отсортированных значений\n",
    "        for i in range(len(matrix)):\n",
    "        # Исходно считаем наименьшим первый элемент\n",
    "            lowest_value_index = i\n",
    "        # Этот цикл перебирает несортированные элементы\n",
    "            for j in range(i + 1, len(matrix)):\n",
    "                if matrix[j] < matrix[lowest_value_index]:\n",
    "                        lowest_value_index = j\n",
    "        # Самый маленький элемент меняем с первым в списке\n",
    "            matrix[i], matrix[lowest_value_index] = matrix[lowest_value_index], matrix[i]\n",
    "    # Проверяем, что оно работает\n",
    "    \n",
    "print(\"Время сортировки выбором: \", (time.time() - start)*1000)\n",
    "selection_sort(gen_matrix)"
   ]
  },
  {
   "cell_type": "code",
   "execution_count": 8,
   "metadata": {},
   "outputs": [
    {
     "name": "stdout",
     "output_type": "stream",
     "text": [
      "Время сортировки вставкой:  0.24700164794921875\n"
     ]
    }
   ],
   "source": [
    "#Вставка\n",
    "start = time.time()\n",
    "def insertion_sort(matrix):\n",
    "        # Сортировку начинаем со второго элемента, т.к. считается, что первый элемент уже отсортирован\n",
    "        for i in range(1, len(matrix)):\n",
    "            item_to_insert = matrix[i]\n",
    "            # Сохраняем ссылку на индекс предыдущего элемента\n",
    "            j = i - 1\n",
    "            # Элементы отсортированного сегмента перемещаем вперёд, если они больше\n",
    "            # элемента для вставки\n",
    "            while j >= 0 and matrix[j] > item_to_insert:\n",
    "                nums[j + 1] = matrix[j]\n",
    "                j -= 1\n",
    "            # Вставляем элемент\n",
    "            matrix[j + 1] = item_to_insert\n",
    "    # Проверяем, что оно работает\n",
    "print(\"Время сортировки вставкой: \", (time.time() - start)*1000)\n",
    "insertion_sort(gen_matrix)"
   ]
  },
  {
   "cell_type": "code",
   "execution_count": 9,
   "metadata": {},
   "outputs": [
    {
     "name": "stdout",
     "output_type": "stream",
     "text": [
      "Время сортировки обменом:  0.16307830810546875\n"
     ]
    }
   ],
   "source": [
    "#Обмен\n",
    "start = time.time()\n",
    "def bubble_sort(matrix):  \n",
    "        # Устанавливаем swapped в True, чтобы цикл запустился хотя бы один раз\n",
    "        swapped = True\n",
    "        while swapped:\n",
    "            swapped = False\n",
    "            for i in range(len(matrix) - 1):\n",
    "                if matrix[i] > matrix[i + 1]:\n",
    "                    # Меняем элементы\n",
    "                    matrix[i], matrix[i + 1] = matrix[i + 1], matrix[i]\n",
    "                    # Устанавливаем swapped в True для следующей итерации\n",
    "                    swapped = True\n",
    "    # Проверяем, что оно работает\n",
    "print(\"Время сортировки обменом: \", (time.time() - start)*1000)\n",
    "bubble_sort(gen_matrix)  "
   ]
  },
  {
   "cell_type": "code",
   "execution_count": 10,
   "metadata": {},
   "outputs": [
    {
     "name": "stdout",
     "output_type": "stream",
     "text": [
      "Время сортировки Шелла:  0.18310546875\n"
     ]
    }
   ],
   "source": [
    "#Шелла\n",
    "start = time.time()\n",
    "def shell(matrix):\n",
    "        inc = len(matrix) // 2 #длина шага\n",
    "        while inc:\n",
    "            for i, el in enumerate(matrix):#индекс:само значение\n",
    "                while i >= inc and matrix[i - inc] > el:\n",
    "                    matrix[i] = matrix[i - inc]\n",
    "                    i -= inc\n",
    "                matrix[i] = el\n",
    "            inc = 1 if inc == 2 else int(inc * 5.0 / 11)\n",
    "    # Проверяем, что оно работает\n",
    "print(\"Время сортировки Шелла: \", (time.time() - start)*1000)\n",
    "shell(gen_matrix)"
   ]
  },
  {
   "cell_type": "code",
   "execution_count": 11,
   "metadata": {},
   "outputs": [
    {
     "name": "stdout",
     "output_type": "stream",
     "text": [
      "Время турнирной сортировки:  0.4169940948486328\n"
     ]
    }
   ],
   "source": [
    "#Турнир\n",
    "start = time.time()\n",
    "def Binary_heap(matrix, lenght, index):#пирамидальное дерево\n",
    "        maximum = index\n",
    "        left = 2 * index\n",
    "        right = 2 * index + 1\n",
    "        if left < lenght and matrix[maximum] < matrix[left]:\n",
    "            maximum = left\n",
    "        if right < lenght and matrix[maximum] < matrix[right]:\n",
    "            maximum = right\n",
    "        if maximum != index:\n",
    "            matrix[index], matrix[maximum] = matrix[maximum], matrix[index]\n",
    "            Binary_heap(matrix, lenght, maximum)\n",
    "        return matrix\n",
    "    \n",
    "    \n",
    "def tournament_sort(matrix):#сравнение пар по уровням дерева\n",
    "        for i in range(len(matrix) // 2, -1, -1):\n",
    "            Binary_heap(matrix, len(matrix), i)\n",
    "        for i in range(len(matrix) - 1, -1, -1):\n",
    "            if matrix[0] > matrix[i]:\n",
    "                matrix[0], matrix[i] = matrix[i], matrix[0]\n",
    "                Binary_heap(matrix, i, 0)\n",
    "    # Проверяем, что оно работает\n",
    "print(\"Время турнирной сортировки: \", (time.time() - start)*1000)\n",
    "tournament_sort(gen_matrix)"
   ]
  },
  {
   "cell_type": "code",
   "execution_count": 12,
   "metadata": {},
   "outputs": [
    {
     "name": "stdout",
     "output_type": "stream",
     "text": [
      "Время быстрой сортировки:  0.1399517059326172\n"
     ]
    }
   ],
   "source": [
    "#Быстрая\n",
    "start = time.time()\n",
    "def QuickSort(matrix):\n",
    "    if len(matrix) <= 1:\n",
    "        return matrix\n",
    "    else:\n",
    "        q = random.choice(matrix)# случайный элемент нашей последовательности\n",
    "        L = []#в списке L собираются элементы, меньшие q\n",
    "        M = []#в списке M — равные q\n",
    "        R = []#в списке R — большие q\n",
    "        for elem in matrix:# разделение на списки нужны, чтобы не было цикличности\n",
    "            if elem < q:\n",
    "                L.append(elem)#добавляем\n",
    "            elif elem > q: \n",
    "                R.append(elem)#добавляем \n",
    "            else: \n",
    "                M.append(elem)#добавляем\n",
    "print(\"Время быстрой сортировки: \", (time.time() - start)*1000)\n",
    "QuickSort(gen_matrix)"
   ]
  },
  {
   "cell_type": "code",
   "execution_count": 15,
   "metadata": {},
   "outputs": [
    {
     "name": "stdout",
     "output_type": "stream",
     "text": [
      "Время пирамидальной сортировки:  0.3371238708496094\n"
     ]
    }
   ],
   "source": [
    "\n",
    "#Пирамида\n",
    "start = time.time()\n",
    "def heapify(matrix, heap_size, root_index):  \n",
    "        # Индекс наибольшего элемента считаем корневым индексом\n",
    "        largest = root_index\n",
    "        left_child = (2 * root_index) + 1\n",
    "        right_child = (2 * root_index) + 2\n",
    "\n",
    "        # Если левый потомок корня — допустимый индекс, а элемент больше,\n",
    "        # чем текущий наибольший, обновляем наибольший элемент\n",
    "        if left_child < heap_size and matrix[left_child] > matrix[largest]:\n",
    "            largest = left_child\n",
    "\n",
    "        # То же самое для правого потомка корня\n",
    "        if right_child < heap_size and matrix[right_child] > matrix[largest]:\n",
    "            largest = right_child\n",
    "\n",
    "        # Если наибольший элемент больше не корневой, они меняются местами\n",
    "        if largest != root_index:\n",
    "            matrix[root_index], matrix[largest] = matrix[largest], matrix[root_index]\n",
    "            # Heapify the new root element to ensure it's the largest\n",
    "            heapify(matrix, heap_size, largest)\n",
    "\n",
    "def heap_sort(matrix):  \n",
    "        n = len(matrix)\n",
    "\n",
    "        # Создаём Max Heap из списка\n",
    "        # Второй аргумент означает остановку алгоритма перед элементом -1, т.е.\n",
    "        # перед первым элементом списка\n",
    "        # 3-й аргумент означает повторный проход по списку в обратном направлении, \n",
    "        # уменьшая счётчик i на 1 \n",
    "        for i in range(n, -1, -1):\n",
    "            heapify(matrix, n, i)\n",
    "\n",
    "        # Перемещаем корень Max Heap в конец списка\n",
    "        for i in range(n - 1, 0, -1):\n",
    "            matrix[i], matrix[0] = matrix[0], matrix[i]\n",
    "            heapify(matrix, i, 0)\n",
    "    # Проверяем, что оно работает\n",
    "print(\"Время пирамидальной сортировки: \", (time.time() - start)*1000)\n",
    "heap_sort(gen_matrix)"
   ]
  },
  {
   "cell_type": "code",
   "execution_count": null,
   "metadata": {},
   "outputs": [],
   "source": []
  }
 ],
 "metadata": {
  "kernelspec": {
   "display_name": "Python 3",
   "language": "python",
   "name": "python3"
  },
  "language_info": {
   "codemirror_mode": {
    "name": "ipython",
    "version": 3
   },
   "file_extension": ".py",
   "mimetype": "text/x-python",
   "name": "python",
   "nbconvert_exporter": "python",
   "pygments_lexer": "ipython3",
   "version": "3.8.5"
  }
 },
 "nbformat": 4,
 "nbformat_minor": 4
}
