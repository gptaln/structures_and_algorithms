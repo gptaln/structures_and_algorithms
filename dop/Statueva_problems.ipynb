{
 "cells": [
  {
   "cell_type": "code",
   "execution_count": 3,
   "metadata": {},
   "outputs": [
    {
     "name": "stdout",
     "output_type": "stream",
     "text": [
      "Введите длины сторон: 2 1 2\n",
      "Максимальный периметр: 5\n"
     ]
    }
   ],
   "source": [
    "#Задание 1\n",
    "arr = list(map(int, input(\"Введите длины сторон: \").split()))\n",
    "def maxPerimeter(arr):\n",
    "\n",
    "    maxi = 0\n",
    "    n = len(arr)\n",
    "    arr.sort(reverse = True)#список по убыванию сортируем \n",
    "    for i in range(0, n - 2):\n",
    "        if arr[i] < (arr[i + 1] + arr[i + 2]):\n",
    "            maxi = max(maxi, arr[i] + \n",
    "                       arr[i + 1] + arr[i + 2])\n",
    "            break\n",
    "    if(maxi == 0):\n",
    "        return \"Треугольник отсутсвует\"\n",
    "    else:\n",
    "        return \"Максимальный периметр: \"+ str(maxi)\n",
    "    \n",
    "def main():\n",
    "    print(maxPerimeter(arr))\n",
    "\n",
    "if __name__=='__main__':\n",
    "\n",
    "    main()          "
   ]
  },
  {
   "cell_type": "code",
   "execution_count": 4,
   "metadata": {},
   "outputs": [
    {
     "name": "stdout",
     "output_type": "stream",
     "text": [
      "Введите числа:98 87 84 2 9\n",
      "Результат: 99887842\n"
     ]
    }
   ],
   "source": [
    "#Задание 2\n",
    "arr = list(map(int, input(\"Введите числа:\").split()))\n",
    "def highest_comb(L):\n",
    "    max_length = len(str(max(L)))\n",
    "    L = map(str, L)  \n",
    "    def sort_key(s):\n",
    "        return s + s[-1] * (max_length - len(s))\n",
    "\n",
    "    sorted_list = sorted(L, key=sort_key, reverse=True)\n",
    "    return ''.join(sorted_list)\n",
    "\n",
    "print(\"Результат: \" + highest_comb(arr)) "
   ]
  },
  {
   "cell_type": "code",
   "execution_count": 5,
   "metadata": {},
   "outputs": [
    {
     "name": "stdout",
     "output_type": "stream",
     "text": [
      "[[1, 1, 1, 1], [1, 2, 2, 2], [1, 2, 3, 3]]\n"
     ]
    }
   ],
   "source": [
    "#Третье задание\n",
    "def diagonal_sort(mat):\n",
    "    for column in range(len(mat[0]) - 1):#полуаем диагональ каждого столбца для первой строки\n",
    "        diagonal_list = []\n",
    "        col = column\n",
    "\n",
    "        for row in range(len(mat)):\n",
    "            diagonal_list.append(mat[row][col])\n",
    "            col += 1\n",
    "\n",
    "            if col >= len(mat[0]):\n",
    "                break\n",
    "\n",
    "        diagonal_list = sorted(diagonal_list)#отсортируйем диагональ и \n",
    "        col = column\n",
    "\n",
    "        for row in range(len(mat)):#поместим обратно в диагональ матрицы\n",
    "            mat[row][col] = diagonal_list[row]\n",
    "            col += 1\n",
    "\n",
    "            if col >= len(mat[0]):\n",
    "                break\n",
    "\n",
    "    for row in range(1, len(mat)):#получим диагональ каждой строки для первого столбца\n",
    "        diagonal_list = []\n",
    "        r = row\n",
    "\n",
    "        for column in range(len(mat[0])):\n",
    "            diagonal_list.append(mat[r][column])\n",
    "            r += 1\n",
    "\n",
    "            if r >= len(mat):\n",
    "                break\n",
    "\n",
    "        diagonal_list = sorted(diagonal_list) #отсортируем диагональ и поместите обратно в диагональ матрицы\n",
    "        r = row\n",
    "\n",
    "        for column in range(len(mat[0])):\n",
    "            mat[r][column] = diagonal_list[column]\n",
    "            r += 1\n",
    "\n",
    "            if r >= len(mat):\n",
    "                break\n",
    "\n",
    "    return mat\n",
    "mat = [[3,3,1,1],[2,2,1,2],[1,1,1,2]]\n",
    "print(diagonal_sort(mat))"
   ]
  }
 ],
 "metadata": {
  "kernelspec": {
   "display_name": "Python 3",
   "language": "python",
   "name": "python3"
  },
  "language_info": {
   "codemirror_mode": {
    "name": "ipython",
    "version": 3
   },
   "file_extension": ".py",
   "mimetype": "text/x-python",
   "name": "python",
   "nbconvert_exporter": "python",
   "pygments_lexer": "ipython3",
   "version": "3.8.5"
  }
 },
 "nbformat": 4,
 "nbformat_minor": 4
}
