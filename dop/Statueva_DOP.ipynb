{
 "cells": [
  {
   "cell_type": "code",
   "execution_count": 5,
   "metadata": {},
   "outputs": [
    {
     "name": "stdout",
     "output_type": "stream",
     "text": [
      "Введите число записей: 100\n",
      "Yes\n"
     ]
    }
   ],
   "source": [
    "#Задание 1\n",
    "N = int(input(\"Введите число записей: \"))\n",
    "def zad_1(N):\n",
    "    result = bool(N%2==0)\n",
    "    \n",
    "    if (result==1):\n",
    "        result = \"Yes\"\n",
    "    else:\n",
    "        result = \"No\"\n",
    "    return result \n",
    "print(zad_1(N));"
   ]
  },
  {
   "cell_type": "code",
   "execution_count": 9,
   "metadata": {},
   "outputs": [
    {
     "name": "stdout",
     "output_type": "stream",
     "text": [
      "Количество вершин: 100\n",
      "Минимальное количество вершин правильного подмноугольника:  4\n"
     ]
    }
   ],
   "source": [
    "#Задание 2\n",
    "N = int(input(\"Количество вершин: \"))\n",
    "def zad_2(N):\n",
    "    if N % 3 == 0:\n",
    "        return 3\n",
    "    elif N % 4 == 0:\n",
    "        return 4\n",
    "    elif N % 5 == 0:\n",
    "        return 5\n",
    "    elif N % 7 == 0:\n",
    "        return 7\n",
    "    else:\n",
    "        print(\"Правильный подмногоугольник невозможен\")\n",
    "print(\"Минимальное количество вершин правильного подмноугольника: \", zad_2(N))"
   ]
  },
  {
   "cell_type": "code",
   "execution_count": 3,
   "metadata": {},
   "outputs": [
    {
     "name": "stdout",
     "output_type": "stream",
     "text": [
      "Введите число: 100\n",
      "Введенное число:  100\n",
      "Система счисления:  100\n",
      "Делитель: 2\n"
     ]
    }
   ],
   "source": [
    "#Задание 3\n",
    "x = int(input(\"Введите число: \"))\n",
    "print(\"Введенное число: \", x)\n",
    "print(\"Система счисления: \", x)\n",
    "print(\"Делитель: 2\")"
   ]
  },
  {
   "cell_type": "code",
   "execution_count": null,
   "metadata": {},
   "outputs": [],
   "source": []
  }
 ],
 "metadata": {
  "kernelspec": {
   "display_name": "Python 3",
   "language": "python",
   "name": "python3"
  },
  "language_info": {
   "codemirror_mode": {
    "name": "ipython",
    "version": 3
   },
   "file_extension": ".py",
   "mimetype": "text/x-python",
   "name": "python",
   "nbconvert_exporter": "python",
   "pygments_lexer": "ipython3",
   "version": "3.8.5"
  }
 },
 "nbformat": 4,
 "nbformat_minor": 4
}
