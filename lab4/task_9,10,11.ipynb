{
 "cells": [
  {
   "cell_type": "code",
   "execution_count": 1,
   "metadata": {},
   "outputs": [],
   "source": [
    "import re# библиотека регулярных выражений"
   ]
  },
  {
   "cell_type": "code",
   "execution_count": 2,
   "metadata": {},
   "outputs": [],
   "source": [
    "class Deque:# дек\n",
    "    def __init__(self):# инициализатор\n",
    "        self.items = []\n",
    "\n",
    "    def __len__(self): # возврат размера\n",
    "        return len(self.items)\n",
    "\n",
    "    def is_empty(self):# проверка на пустоту\n",
    "        return self.items == []\n",
    "\n",
    "    def push_front(self, item):# добавление в конец\n",
    "        self.items.append(item)\n",
    "\n",
    "    def push_back(self, item):# добавление в начало\n",
    "        self.items.insert(0, item)\n",
    "\n",
    "    def pop_front(self):# возврат конца\n",
    "        return self.items.pop()\n",
    "\n",
    "    def pop_back(self):# возврат начала\n",
    "        return self.items.pop(0)\n",
    "\n",
    "    def peek_first(self):# первый элемент\n",
    "        return self.items[0]\n",
    "\n",
    "    def peek_last(self):# последний элемент\n",
    "        return self.items[-1]"
   ]
  },
  {
   "cell_type": "code",
   "execution_count": 3,
   "metadata": {},
   "outputs": [],
   "source": [
    "class Stack(Deque):\n",
    "    def push(self, item):# обращение к родительскому \n",
    "        super().push_front(item)# добавление конец\n",
    "\n",
    "    def pop(self):\n",
    "        return super().pop_front()# возврат конца\n",
    "\n",
    "    def peek(self):\n",
    "        return self.items[-1]# последний"
   ]
  },
  {
   "cell_type": "code",
   "execution_count": 4,
   "metadata": {},
   "outputs": [],
   "source": [
    "# Обработка логического выражения\n",
    "def postfix(temp):\n",
    "    exp = \"\"\n",
    "    for i in temp:# фукнция замены в выражении\n",
    "        if i == \"A\":\n",
    "            exp += \"*\"\n",
    "        elif i == \"X\":\n",
    "            exp += \"^\"\n",
    "        elif i == \"O\":\n",
    "            exp += \"+\"\n",
    "        elif i == \"N\":\n",
    "            exp += \"!\"\n",
    "        else:\n",
    "            exp += i + \"\"\n",
    "    temp = \"\"\n",
    "    stack = Stack()\n",
    "    print(exp)# вывод изменненой строки\n",
    "    for i in exp:# \n",
    "        if i in \"TF\":# запись true false\n",
    "            temp += i + \" \"\n",
    "            continue\n",
    "        if (i in \"+\") and (stack.peek() in \"*!^\"):# если то проверяем скобки\n",
    "            ch = stack.pop()\n",
    "            while ch != \"(\":\n",
    "                temp += ch + ' '\n",
    "                ch = stack.pop()\n",
    "            stack.push(\"(\")\n",
    "        if i == \")\":# проверяем закрывающую скобку\n",
    "            ch = stack.pop()\n",
    "            while ch != \"(\":\n",
    "                temp += ch + ' '\n",
    "                ch = stack.pop()\n",
    "\n",
    "            continue\n",
    "        stack.push(i)\n",
    "    while not stack.is_empty():\n",
    "        temp += stack.pop() + \" \"\n",
    "    print(temp)\n",
    "    return temp"
   ]
  },
  {
   "cell_type": "code",
   "execution_count": 5,
   "metadata": {},
   "outputs": [
    {
     "name": "stdout",
     "output_type": "stream",
     "text": [
      "(!(T*F))\n",
      "T F * ! \n",
      "True\n"
     ]
    }
   ],
   "source": [
    "def nine_task(expr):\n",
    "    operators = {# объект операторов\n",
    "        '+': bool.__or__,\n",
    "        '*': bool.__and__,\n",
    "        '^': bool.__xor__,\n",
    "    }\n",
    "    expr = str(postfix(expr).strip())# удаляем пробелы\n",
    "    ops = operators.keys()#записвваем операторы\n",
    "    res = Stack()\n",
    "    for atom in re.split(r\"\\s+\", expr):# регулярное выражение\n",
    "        try:\n",
    "            if atom == \"F\":\n",
    "                atom = False# запись фолс\n",
    "            elif atom == \"T\":\n",
    "                atom = True# записываем в тру\n",
    "            elif atom == \"!\":# записываем инверсию\n",
    "                res.push_front(not res.pop())\n",
    "                continue\n",
    "            else:\n",
    "                raise ValueError\n",
    "            res.push_front(atom)\n",
    "        except ValueError:# исключение\n",
    "            for oper in atom:\n",
    "                if oper not in ops:\n",
    "                    continue\n",
    "                oper2 = res.pop()\n",
    "                oper1 = res.pop()\n",
    "                oper = operators[oper](oper1, oper2)\n",
    "                res.push_front(oper)\n",
    "                \n",
    "\n",
    "    return res.pop()\n",
    "with open('task9.txt', 'r') as f:\n",
    "    text = f.read()\n",
    "print(nine_task(text))"
   ]
  },
  {
   "cell_type": "code",
   "execution_count": 6,
   "metadata": {},
   "outputs": [
    {
     "name": "stdout",
     "output_type": "stream",
     "text": [
      "max(min(8,100),max(89,32))\n",
      "89\n",
      "min(max(3,9),min(min(89,1),2))\n",
      "1\n"
     ]
    }
   ],
   "source": [
    "#Поиск максимума и минимума\n",
    "def ten_task(expr):\n",
    "    expr = expr.replace(\"M\",\"max\") # замена m на max\n",
    "    expr = expr.replace(\"N\",\"min\") # замена N на min\n",
    "    print(expr)\n",
    "    q = eval(expr)# динамическое выражение\n",
    "    return q\n",
    "ten_task10 = open('task10.txt', 'r')\n",
    "with open('task10.txt', 'r') as f:\n",
    "    text = f.read()\n",
    "print(ten_task(text))"
   ]
  },
  {
   "cell_type": "code",
   "execution_count": 7,
   "metadata": {},
   "outputs": [],
   "source": [
    "def temp11(exp):# польская запись\n",
    "    temp = \"\"\n",
    "    stack = Stack()\n",
    "    for i in exp:\n",
    "        if i in \"xyz\":#проверка наличия переменных в строке\n",
    "            temp += i + \" \"\n",
    "            continue\n",
    "        if i == \")\":# вынос закрывающей скобки\n",
    "            ch = stack.pop()\n",
    "            while ch != \"(\":\n",
    "                temp += ch + ' '\n",
    "                ch = stack.pop()\n",
    "            continue\n",
    "        stack.push(i)\n",
    "    while not stack.is_empty():\n",
    "        temp += stack.pop() + \" \"\n",
    "    print(temp)\n",
    "    return temp\n"
   ]
  },
  {
   "cell_type": "code",
   "execution_count": 8,
   "metadata": {},
   "outputs": [
    {
     "name": "stdout",
     "output_type": "stream",
     "text": [
      "x y z + + \n",
      "True\n"
     ]
    }
   ],
   "source": [
    "def el_task(expr):\n",
    "    expr = str(temp11(expr).strip())# удаляем пробелы\n",
    "    operator = {'+': int.__add__}# объект операторов\n",
    "    ops = operator.keys()\n",
    "    res = Stack()\n",
    "    lst = list(expr)\n",
    "    for atom in re.split(r\"\\s+\", expr):# регулярное выражение\n",
    "        try:# обраюотчик исключений\n",
    "            assert atom in \"xyz+ \"# проверка условия\n",
    "            if atom in \"xyz\":\n",
    "                atom = 1#\n",
    "            else:\n",
    "                raise ValueError\n",
    "            res.push_front(atom)\n",
    "        except ValueError:# обраюотка ошибки\n",
    "            for oper in atom:\n",
    "                if oper not in ops:\n",
    "                    return False\n",
    "                oper2 = res.pop()\n",
    "                oper1 = res.pop()\n",
    "                oper = operator[oper](oper1, oper2)\n",
    "                res.push_front(oper)\n",
    "        except AssertionError:\n",
    "            return False\n",
    "\n",
    "    return res.pop() and True\n",
    "with open('task11.txt', 'r') as f:\n",
    "    text = f.read()\n",
    "print(el_task(text))"
   ]
  }
 ],
 "metadata": {
  "kernelspec": {
   "display_name": "Python 3",
   "language": "python",
   "name": "python3"
  },
  "language_info": {
   "codemirror_mode": {
    "name": "ipython",
    "version": 3
   },
   "file_extension": ".py",
   "mimetype": "text/x-python",
   "name": "python",
   "nbconvert_exporter": "python",
   "pygments_lexer": "ipython3",
   "version": "3.8.5"
  }
 },
 "nbformat": 4,
 "nbformat_minor": 4
}
