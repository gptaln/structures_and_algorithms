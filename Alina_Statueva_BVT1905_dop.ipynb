{
 "cells": [
  {
   "cell_type": "code",
   "execution_count": 1,
   "metadata": {},
   "outputs": [
    {
     "name": "stdout",
     "output_type": "stream",
     "text": [
      "Введите число: 100\n",
      "Yes\n"
     ]
    }
   ],
   "source": [
    "#Задание 2 записи заседаний\n",
    "x = int(input(\"Введите число: \"))\n",
    "def zad_1(x):\n",
    "    result = bool(x%2==0)\n",
    "    if (result == 1):\n",
    "         return \"Yes\"\n",
    "    else:\n",
    "        return \"No\"\n",
    "print(zad_1(x));"
   ]
  },
  {
   "cell_type": "code",
   "execution_count": 2,
   "metadata": {},
   "outputs": [
    {
     "name": "stdout",
     "output_type": "stream",
     "text": [
      "Количество вершин: 10\n",
      "Минимальное количество вершин подмноугольника:  5\n"
     ]
    }
   ],
   "source": [
    "#Задание 2 подмногоугольники\n",
    "x = int(input(\"Количество вершин: \"))\n",
    "def zad_2(x):\n",
    "    if x % 6 == 0:\n",
    "        return 6\n",
    "    elif x % 7 == 0:\n",
    "         return 7\n",
    "    elif x % 5 == 0:\n",
    "        return 5\n",
    "    elif x % 8 == 0:\n",
    "        return 8\n",
    "    elif x % 9 == 0:\n",
    "        return 9\n",
    "    else:\n",
    "        print(\"Нету подмноугольника\")\n",
    "print(\"Минимальное количество вершин подмноугольника: \", zad_2(x))"
   ]
  },
  {
   "cell_type": "code",
   "execution_count": 3,
   "metadata": {},
   "outputs": [
    {
     "name": "stdout",
     "output_type": "stream",
     "text": [
      "Введите число: 30\n",
      "Введенное число:  30\n",
      "Система счисления:  30\n",
      "Делитель: 2\n"
     ]
    }
   ],
   "source": [
    "#Задание 3 задачи информатики\n",
    "x = int(input(\"Введите число: \"))\n",
    "print(\"Введенное число: \", x)\n",
    "print(\"Система счисления: \", x)\n",
    "print(\"Делитель: 2\")"
   ]
  },
  {
   "cell_type": "code",
   "execution_count": null,
   "metadata": {},
   "outputs": [],
   "source": []
  }
 ],
 "metadata": {
  "kernelspec": {
   "display_name": "Python 3",
   "language": "python",
   "name": "python3"
  },
  "language_info": {
   "codemirror_mode": {
    "name": "ipython",
    "version": 3
   },
   "file_extension": ".py",
   "mimetype": "text/x-python",
   "name": "python",
   "nbconvert_exporter": "python",
   "pygments_lexer": "ipython3",
   "version": "3.8.5"
  }
 },
 "nbformat": 4,
 "nbformat_minor": 4
}
